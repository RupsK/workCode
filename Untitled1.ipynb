{
 "cells": [
  {
   "cell_type": "code",
   "execution_count": null,
   "id": "efc81401-7cb0-4632-8d1e-74f26c2fc4d1",
   "metadata": {},
   "outputs": [],
   "source": [
    "from fastai.vision.all import *\n",
    "import numpy as np\n",
    "np.random.seed(42)"
   ]
  },
  {
   "cell_type": "code",
   "execution_count": 1,
   "id": "25186aad-297b-4e67-ab43-876ec128f097",
   "metadata": {},
   "outputs": [
    {
     "ename": "NameError",
     "evalue": "name 'ImageDataBunch' is not defined",
     "output_type": "error",
     "traceback": [
      "\u001b[1;31m---------------------------------------------------------------------------\u001b[0m",
      "\u001b[1;31mNameError\u001b[0m                                 Traceback (most recent call last)",
      "Cell \u001b[1;32mIn[1], line 1\u001b[0m\n\u001b[1;32m----> 1\u001b[0m data \u001b[38;5;241m=\u001b[39m ImageDataBunch\u001b[38;5;241m.\u001b[39mfrom_folder(path, train\u001b[38;5;241m=\u001b[39m\u001b[38;5;124m'\u001b[39m\u001b[38;5;124mC:/Users/h4tec/Desktop/새 폴더/train\u001b[39m\u001b[38;5;124m'\u001b[39m, valid_pct\u001b[38;5;241m=\u001b[39m\u001b[38;5;241m0.2\u001b[39m,\n\u001b[0;32m      2\u001b[0m                                   \n\u001b[0;32m      3\u001b[0m                                   ds_tfms\u001b[38;5;241m=\u001b[39mget_transforms(), size\u001b[38;5;241m=\u001b[39m\u001b[38;5;241m224\u001b[39m, \n\u001b[0;32m      4\u001b[0m                                   \n\u001b[0;32m      5\u001b[0m                                   num_workers\u001b[38;5;241m=\u001b[39m\u001b[38;5;241m4\u001b[39m)\u001b[38;5;241m.\u001b[39mnormalize(imagenet_stats)\n",
      "\u001b[1;31mNameError\u001b[0m: name 'ImageDataBunch' is not defined"
     ]
    }
   ],
   "source": [
    "data = ImageDataLoaders.from_folder(path, train='C:/Users/h4tec/Desktop/새 폴더/train', valid_pct=0.2,\n",
    "                                  \n",
    "                                  ds_tfms=get_transforms(), size=224, \n",
    "                                  \n",
    "                                  num_workers=4).normalize(imagenet_stats)"
   ]
  },
  {
   "cell_type": "code",
   "execution_count": null,
   "id": "8423d809-c439-4329-8893-76ba61b0e0cd",
   "metadata": {},
   "outputs": [],
   "source": []
  }
 ],
 "metadata": {
  "kernelspec": {
   "display_name": "Python 3 (ipykernel)",
   "language": "python",
   "name": "python3"
  },
  "language_info": {
   "codemirror_mode": {
    "name": "ipython",
    "version": 3
   },
   "file_extension": ".py",
   "mimetype": "text/x-python",
   "name": "python",
   "nbconvert_exporter": "python",
   "pygments_lexer": "ipython3",
   "version": "3.11.8"
  }
 },
 "nbformat": 4,
 "nbformat_minor": 5
}
